{
  "nbformat": 4,
  "nbformat_minor": 0,
  "metadata": {
    "colab": {
      "provenance": [],
      "authorship_tag": "ABX9TyOHskKcYrHS7qamtw5zKaZk",
      "include_colab_link": true
    },
    "kernelspec": {
      "name": "python3",
      "display_name": "Python 3"
    },
    "language_info": {
      "name": "python"
    }
  },
  "cells": [
    {
      "cell_type": "markdown",
      "metadata": {
        "id": "view-in-github",
        "colab_type": "text"
      },
      "source": [
        "<a href=\"https://colab.research.google.com/github/it5joys135/AngelOne_SMART_API/blob/main/angel_smart.ipynb\" target=\"_parent\"><img src=\"https://colab.research.google.com/assets/colab-badge.svg\" alt=\"Open In Colab\"/></a>"
      ]
    },
    {
      "cell_type": "code",
      "source": [
        "from google.colab import files\n",
        "requirements_dev = files.upload()"
      ],
      "metadata": {
        "colab": {
          "base_uri": "https://localhost:8080/",
          "height": 73
        },
        "id": "BtVHBwS8iKOi",
        "outputId": "71e4721c-ced2-45ea-efcc-bcc9ce926807"
      },
      "execution_count": null,
      "outputs": [
        {
          "output_type": "display_data",
          "data": {
            "text/plain": [
              "<IPython.core.display.HTML object>"
            ],
            "text/html": [
              "\n",
              "     <input type=\"file\" id=\"files-4c07837b-f223-41d2-b04b-28ea5654b2d8\" name=\"files[]\" multiple disabled\n",
              "        style=\"border:none\" />\n",
              "     <output id=\"result-4c07837b-f223-41d2-b04b-28ea5654b2d8\">\n",
              "      Upload widget is only available when the cell has been executed in the\n",
              "      current browser session. Please rerun this cell to enable.\n",
              "      </output>\n",
              "      <script>// Copyright 2017 Google LLC\n",
              "//\n",
              "// Licensed under the Apache License, Version 2.0 (the \"License\");\n",
              "// you may not use this file except in compliance with the License.\n",
              "// You may obtain a copy of the License at\n",
              "//\n",
              "//      http://www.apache.org/licenses/LICENSE-2.0\n",
              "//\n",
              "// Unless required by applicable law or agreed to in writing, software\n",
              "// distributed under the License is distributed on an \"AS IS\" BASIS,\n",
              "// WITHOUT WARRANTIES OR CONDITIONS OF ANY KIND, either express or implied.\n",
              "// See the License for the specific language governing permissions and\n",
              "// limitations under the License.\n",
              "\n",
              "/**\n",
              " * @fileoverview Helpers for google.colab Python module.\n",
              " */\n",
              "(function(scope) {\n",
              "function span(text, styleAttributes = {}) {\n",
              "  const element = document.createElement('span');\n",
              "  element.textContent = text;\n",
              "  for (const key of Object.keys(styleAttributes)) {\n",
              "    element.style[key] = styleAttributes[key];\n",
              "  }\n",
              "  return element;\n",
              "}\n",
              "\n",
              "// Max number of bytes which will be uploaded at a time.\n",
              "const MAX_PAYLOAD_SIZE = 100 * 1024;\n",
              "\n",
              "function _uploadFiles(inputId, outputId) {\n",
              "  const steps = uploadFilesStep(inputId, outputId);\n",
              "  const outputElement = document.getElementById(outputId);\n",
              "  // Cache steps on the outputElement to make it available for the next call\n",
              "  // to uploadFilesContinue from Python.\n",
              "  outputElement.steps = steps;\n",
              "\n",
              "  return _uploadFilesContinue(outputId);\n",
              "}\n",
              "\n",
              "// This is roughly an async generator (not supported in the browser yet),\n",
              "// where there are multiple asynchronous steps and the Python side is going\n",
              "// to poll for completion of each step.\n",
              "// This uses a Promise to block the python side on completion of each step,\n",
              "// then passes the result of the previous step as the input to the next step.\n",
              "function _uploadFilesContinue(outputId) {\n",
              "  const outputElement = document.getElementById(outputId);\n",
              "  const steps = outputElement.steps;\n",
              "\n",
              "  const next = steps.next(outputElement.lastPromiseValue);\n",
              "  return Promise.resolve(next.value.promise).then((value) => {\n",
              "    // Cache the last promise value to make it available to the next\n",
              "    // step of the generator.\n",
              "    outputElement.lastPromiseValue = value;\n",
              "    return next.value.response;\n",
              "  });\n",
              "}\n",
              "\n",
              "/**\n",
              " * Generator function which is called between each async step of the upload\n",
              " * process.\n",
              " * @param {string} inputId Element ID of the input file picker element.\n",
              " * @param {string} outputId Element ID of the output display.\n",
              " * @return {!Iterable<!Object>} Iterable of next steps.\n",
              " */\n",
              "function* uploadFilesStep(inputId, outputId) {\n",
              "  const inputElement = document.getElementById(inputId);\n",
              "  inputElement.disabled = false;\n",
              "\n",
              "  const outputElement = document.getElementById(outputId);\n",
              "  outputElement.innerHTML = '';\n",
              "\n",
              "  const pickedPromise = new Promise((resolve) => {\n",
              "    inputElement.addEventListener('change', (e) => {\n",
              "      resolve(e.target.files);\n",
              "    });\n",
              "  });\n",
              "\n",
              "  const cancel = document.createElement('button');\n",
              "  inputElement.parentElement.appendChild(cancel);\n",
              "  cancel.textContent = 'Cancel upload';\n",
              "  const cancelPromise = new Promise((resolve) => {\n",
              "    cancel.onclick = () => {\n",
              "      resolve(null);\n",
              "    };\n",
              "  });\n",
              "\n",
              "  // Wait for the user to pick the files.\n",
              "  const files = yield {\n",
              "    promise: Promise.race([pickedPromise, cancelPromise]),\n",
              "    response: {\n",
              "      action: 'starting',\n",
              "    }\n",
              "  };\n",
              "\n",
              "  cancel.remove();\n",
              "\n",
              "  // Disable the input element since further picks are not allowed.\n",
              "  inputElement.disabled = true;\n",
              "\n",
              "  if (!files) {\n",
              "    return {\n",
              "      response: {\n",
              "        action: 'complete',\n",
              "      }\n",
              "    };\n",
              "  }\n",
              "\n",
              "  for (const file of files) {\n",
              "    const li = document.createElement('li');\n",
              "    li.append(span(file.name, {fontWeight: 'bold'}));\n",
              "    li.append(span(\n",
              "        `(${file.type || 'n/a'}) - ${file.size} bytes, ` +\n",
              "        `last modified: ${\n",
              "            file.lastModifiedDate ? file.lastModifiedDate.toLocaleDateString() :\n",
              "                                    'n/a'} - `));\n",
              "    const percent = span('0% done');\n",
              "    li.appendChild(percent);\n",
              "\n",
              "    outputElement.appendChild(li);\n",
              "\n",
              "    const fileDataPromise = new Promise((resolve) => {\n",
              "      const reader = new FileReader();\n",
              "      reader.onload = (e) => {\n",
              "        resolve(e.target.result);\n",
              "      };\n",
              "      reader.readAsArrayBuffer(file);\n",
              "    });\n",
              "    // Wait for the data to be ready.\n",
              "    let fileData = yield {\n",
              "      promise: fileDataPromise,\n",
              "      response: {\n",
              "        action: 'continue',\n",
              "      }\n",
              "    };\n",
              "\n",
              "    // Use a chunked sending to avoid message size limits. See b/62115660.\n",
              "    let position = 0;\n",
              "    do {\n",
              "      const length = Math.min(fileData.byteLength - position, MAX_PAYLOAD_SIZE);\n",
              "      const chunk = new Uint8Array(fileData, position, length);\n",
              "      position += length;\n",
              "\n",
              "      const base64 = btoa(String.fromCharCode.apply(null, chunk));\n",
              "      yield {\n",
              "        response: {\n",
              "          action: 'append',\n",
              "          file: file.name,\n",
              "          data: base64,\n",
              "        },\n",
              "      };\n",
              "\n",
              "      let percentDone = fileData.byteLength === 0 ?\n",
              "          100 :\n",
              "          Math.round((position / fileData.byteLength) * 100);\n",
              "      percent.textContent = `${percentDone}% done`;\n",
              "\n",
              "    } while (position < fileData.byteLength);\n",
              "  }\n",
              "\n",
              "  // All done.\n",
              "  yield {\n",
              "    response: {\n",
              "      action: 'complete',\n",
              "    }\n",
              "  };\n",
              "}\n",
              "\n",
              "scope.google = scope.google || {};\n",
              "scope.google.colab = scope.google.colab || {};\n",
              "scope.google.colab._files = {\n",
              "  _uploadFiles,\n",
              "  _uploadFilesContinue,\n",
              "};\n",
              "})(self);\n",
              "</script> "
            ]
          },
          "metadata": {}
        },
        {
          "output_type": "stream",
          "name": "stdout",
          "text": [
            "Saving requirements_dev.txt to requirements_dev (1).txt\n"
          ]
        }
      ]
    },
    {
      "cell_type": "code",
      "source": [
        "!pip install -r requirements_dev.txt       # for downloading the other required packages"
      ],
      "metadata": {
        "colab": {
          "base_uri": "https://localhost:8080/"
        },
        "collapsed": true,
        "id": "WkXLSOK3iGMk",
        "outputId": "5545e765-97d0-448e-ba9d-09e56a03e810"
      },
      "execution_count": null,
      "outputs": [
        {
          "output_type": "stream",
          "name": "stdout",
          "text": [
            "Requirement already satisfied: attrs==23.1.0 in /usr/local/lib/python3.11/dist-packages (from -r requirements_dev.txt (line 1)) (23.1.0)\n",
            "Requirement already satisfied: autobahn==23.6.2 in /usr/local/lib/python3.11/dist-packages (from -r requirements_dev.txt (line 2)) (23.6.2)\n",
            "Requirement already satisfied: Automat==22.10.0 in /usr/local/lib/python3.11/dist-packages (from -r requirements_dev.txt (line 3)) (22.10.0)\n",
            "Requirement already satisfied: certifi==2023.5.7 in /usr/local/lib/python3.11/dist-packages (from -r requirements_dev.txt (line 4)) (2023.5.7)\n",
            "Requirement already satisfied: cffi==1.15.1 in /usr/local/lib/python3.11/dist-packages (from -r requirements_dev.txt (line 5)) (1.15.1)\n",
            "Requirement already satisfied: charset-normalizer==3.1.0 in /usr/local/lib/python3.11/dist-packages (from -r requirements_dev.txt (line 6)) (3.1.0)\n",
            "Requirement already satisfied: constantly==15.1.0 in /usr/local/lib/python3.11/dist-packages (from -r requirements_dev.txt (line 7)) (15.1.0)\n",
            "Requirement already satisfied: cryptography==41.0.1 in /usr/local/lib/python3.11/dist-packages (from -r requirements_dev.txt (line 8)) (41.0.1)\n",
            "Requirement already satisfied: hyperlink==21.0.0 in /usr/local/lib/python3.11/dist-packages (from -r requirements_dev.txt (line 9)) (21.0.0)\n",
            "Requirement already satisfied: idna==3.4 in /usr/local/lib/python3.11/dist-packages (from -r requirements_dev.txt (line 10)) (3.4)\n",
            "Requirement already satisfied: incremental==22.10.0 in /usr/local/lib/python3.11/dist-packages (from -r requirements_dev.txt (line 11)) (22.10.0)\n",
            "Requirement already satisfied: isodate==0.6.1 in /usr/local/lib/python3.11/dist-packages (from -r requirements_dev.txt (line 12)) (0.6.1)\n",
            "Requirement already satisfied: logzero==1.7.0 in /usr/local/lib/python3.11/dist-packages (from -r requirements_dev.txt (line 13)) (1.7.0)\n",
            "Requirement already satisfied: pycparser==2.21 in /usr/local/lib/python3.11/dist-packages (from -r requirements_dev.txt (line 14)) (2.21)\n",
            "Requirement already satisfied: pycrypto==2.6.1 in /usr/local/lib/python3.11/dist-packages (from -r requirements_dev.txt (line 15)) (2.6.1)\n",
            "Requirement already satisfied: pyotp==2.8.0 in /usr/local/lib/python3.11/dist-packages (from -r requirements_dev.txt (line 16)) (2.8.0)\n",
            "Requirement already satisfied: pyparsing==3.1.0 in /usr/local/lib/python3.11/dist-packages (from -r requirements_dev.txt (line 17)) (3.1.0)\n",
            "Requirement already satisfied: python-dateutil==2.8.2 in /usr/local/lib/python3.11/dist-packages (from -r requirements_dev.txt (line 18)) (2.8.2)\n",
            "Requirement already satisfied: pytz==2023.3 in /usr/local/lib/python3.11/dist-packages (from -r requirements_dev.txt (line 19)) (2023.3)\n",
            "Requirement already satisfied: rdflib==6.3.2 in /usr/local/lib/python3.11/dist-packages (from -r requirements_dev.txt (line 20)) (6.3.2)\n",
            "Requirement already satisfied: rdflib-jsonld==0.6.2 in /usr/local/lib/python3.11/dist-packages (from -r requirements_dev.txt (line 21)) (0.6.2)\n",
            "Requirement already satisfied: requests==2.31.0 in /usr/local/lib/python3.11/dist-packages (from -r requirements_dev.txt (line 22)) (2.31.0)\n",
            "Requirement already satisfied: simplejson==3.19.1 in /usr/local/lib/python3.11/dist-packages (from -r requirements_dev.txt (line 23)) (3.19.1)\n",
            "Requirement already satisfied: six==1.16.0 in /usr/local/lib/python3.11/dist-packages (from -r requirements_dev.txt (line 24)) (1.16.0)\n",
            "Requirement already satisfied: smartapi-python==1.4.8 in /usr/local/lib/python3.11/dist-packages (from -r requirements_dev.txt (line 25)) (1.4.8)\n",
            "Requirement already satisfied: Twisted==22.10.0 in /usr/local/lib/python3.11/dist-packages (from -r requirements_dev.txt (line 26)) (22.10.0)\n",
            "Requirement already satisfied: txaio==23.1.1 in /usr/local/lib/python3.11/dist-packages (from -r requirements_dev.txt (line 27)) (23.1.1)\n",
            "Requirement already satisfied: typing_extensions==4.6.3 in /usr/local/lib/python3.11/dist-packages (from -r requirements_dev.txt (line 28)) (4.6.3)\n",
            "Requirement already satisfied: urllib3==2.0.3 in /usr/local/lib/python3.11/dist-packages (from -r requirements_dev.txt (line 29)) (2.0.3)\n",
            "Requirement already satisfied: websocket-client==1.6.0 in /usr/local/lib/python3.11/dist-packages (from -r requirements_dev.txt (line 30)) (1.6.0)\n",
            "Requirement already satisfied: zope.interface==6.0 in /usr/local/lib/python3.11/dist-packages (from -r requirements_dev.txt (line 31)) (6.0)\n",
            "Requirement already satisfied: setuptools in /usr/local/lib/python3.11/dist-packages (from autobahn==23.6.2->-r requirements_dev.txt (line 2)) (75.1.0)\n"
          ]
        }
      ]
    },
    {
      "cell_type": "code",
      "execution_count": null,
      "metadata": {
        "colab": {
          "base_uri": "https://localhost:8080/"
        },
        "id": "DvDa36aCO7dq",
        "outputId": "b41680f3-6e75-4aea-cde6-e9229824b392"
      },
      "outputs": [
        {
          "output_type": "stream",
          "name": "stderr",
          "text": [
            "[I 250123 04:34:39 smartConnect:121] in pool\n"
          ]
        },
        {
          "output_type": "stream",
          "name": "stdout",
          "text": [
            "User Profile: {'status': True, 'message': 'SUCCESS', 'errorcode': '', 'data': {'clientcode': 'J163841', 'name': 'JYOTI RAMSAMUJ SHARMA', 'email': '', 'mobileno': '', 'exchanges': ['nse_fo', 'nse_cm', 'cde_fo', 'ncx_fo', 'bse_fo', 'bse_cm', 'mcx_fo'], 'products': ['MARGIN', 'MIS', 'NRML', 'CNC', 'CO', 'BO'], 'lastlogintime': '', 'broker': ''}}\n"
          ]
        }
      ],
      "source": [
        "from SmartApi import SmartConnect\n",
        "from google.colab import userdata\n",
        "import pyotp\n",
        "from logzero import logger\n",
        "\n",
        "api_key = userdata.get('SmartApiKey')\n",
        "client_id = userdata.get('ClientId')\n",
        "password = userdata.get('Password')\n",
        "\n",
        "obj = SmartConnect(api_key)\n",
        "\n",
        "try:\n",
        "    token = userdata.get('SecretToken')\n",
        "    totp = pyotp.TOTP(token).now()\n",
        "except Exception as e:\n",
        "    logger.error(\"Invalid Token: The provided token is not valid.\")\n",
        "    raise e\n",
        "\n",
        "correlation_id = \"abcde\"\n",
        "data = obj.generateSession(client_id, password, totp)\n",
        "\n",
        "session_token = data['data']['jwtToken']\n",
        "refreshToken = data['data']['refreshToken']\n",
        "\n",
        "user_profile = obj.getProfile(refreshToken)\n",
        "print(\"User Profile:\", user_profile)"
      ]
    },
    {
      "cell_type": "code",
      "source": [
        "import pandas as pd\n",
        "\n",
        "# Define parameters\n",
        "symbol_token = \"3045\"  # Example: Nifty 50 index token\n",
        "interval = \"ONE_HOUR\"       # Available intervals: \"1min\", \"5min\", \"15min\", \"1day\", etc.\n",
        "from_date = \"2024-09-29 09:15\"  # Format: \"YYYY-MM-DD HH:MM\"\n",
        "to_date = \"2025-01-23 10:00\"    # Format: \"YYYY-MM-DD HH:MM\"\n",
        "\n",
        "# Fetch historical data\n",
        "try:\n",
        "    historicParam={\n",
        "        \"exchange\": \"NSE\",\n",
        "        \"symboltoken\": \"3045\",\n",
        "        \"interval\": \"ONE_HOUR\",\n",
        "        \"fromdate\": \"2024-09-29 09:15\",\n",
        "        \"todate\": \"2025-01-23 10:16\"\n",
        "        }\n",
        "    obj.getCandleData(historicParam)\n",
        "    # Convert data to a pandas DataFrame\n",
        "    df = pd.DataFrame(\n",
        "        historicParam['data'],\n",
        "        columns=[\"timestamp\", \"open\", \"high\", \"low\", \"close\", \"volume\"]\n",
        "    )\n",
        "    print(df.head())\n",
        "except Exception as e:\n",
        "    print(\"Error fetching historical data:\", str(e))\n"
      ],
      "metadata": {
        "id": "2ZICbtKtR1zs",
        "colab": {
          "base_uri": "https://localhost:8080/"
        },
        "outputId": "68105970-8f1f-4e6c-ddc5-617086e4d72e"
      },
      "execution_count": null,
      "outputs": [
        {
          "output_type": "stream",
          "name": "stdout",
          "text": [
            "Error fetching historical data: 'data'\n"
          ]
        }
      ]
    },
    {
      "cell_type": "code",
      "source": [
        "#logout\n",
        "try:\n",
        "    logout=obj.terminateSession(client_id) # Assuming 'obj' is your SmartConnect instance and client_id holds the Client ID\n",
        "    logger.info(\"Logout Successfull\")\n",
        "except Exception as e:\n",
        "    logger.exception(f\"Logout failed: {e}\")"
      ],
      "metadata": {
        "colab": {
          "base_uri": "https://localhost:8080/"
        },
        "id": "BRrW1epDeXEy",
        "outputId": "8d500e43-d91f-4200-d378-235743917914"
      },
      "execution_count": null,
      "outputs": [
        {
          "output_type": "stream",
          "name": "stderr",
          "text": [
            "[I 250123 04:58:55 <ipython-input-18-19226d24aa95>:4] Logout Successfull\n"
          ]
        }
      ]
    },
    {
      "cell_type": "code",
      "source": [],
      "metadata": {
        "id": "PK7VRDujheS1"
      },
      "execution_count": null,
      "outputs": []
    }
  ]
}